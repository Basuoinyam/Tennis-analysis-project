{
 "cells": [
  {
   "metadata": {
    "ExecuteTime": {
     "end_time": "2025-09-16T13:20:05.630699Z",
     "start_time": "2025-09-16T13:19:35.868230Z"
    }
   },
   "cell_type": "code",
   "outputs": [
    {
     "name": "stderr",
     "output_type": "stream",
     "text": [
      "WARNING: You are using pip version 22.0.4; however, version 25.2 is available.\n",
      "You should consider upgrading via the 'C:\\Users\\d\\AppData\\Local\\Programs\\Python\\Python39\\python.exe -m pip install --upgrade pip' command.\n"
     ]
    },
    {
     "name": "stdout",
     "output_type": "stream",
     "text": [
      "Requirement already satisfied: roboflow in c:\\users\\d\\appdata\\local\\programs\\python\\python39\\lib\\site-packages (1.2.9)\n",
      "Requirement already satisfied: idna==3.7 in c:\\users\\d\\appdata\\local\\programs\\python\\python39\\lib\\site-packages (from roboflow) (3.7)\n",
      "Requirement already satisfied: tqdm>=4.41.0 in c:\\users\\d\\appdata\\local\\programs\\python\\python39\\lib\\site-packages (from roboflow) (4.67.1)\n",
      "Requirement already satisfied: urllib3>=1.26.6 in c:\\users\\d\\appdata\\local\\programs\\python\\python39\\lib\\site-packages (from roboflow) (2.5.0)\n",
      "Requirement already satisfied: python-dateutil in c:\\users\\d\\appdata\\local\\programs\\python\\python39\\lib\\site-packages (from roboflow) (2.9.0.post0)\n",
      "Requirement already satisfied: pi-heif<2 in c:\\users\\d\\appdata\\local\\programs\\python\\python39\\lib\\site-packages (from roboflow) (1.1.0)\n",
      "Requirement already satisfied: kiwisolver>=1.3.1 in c:\\users\\d\\appdata\\local\\programs\\python\\python39\\lib\\site-packages (from roboflow) (1.4.7)\n",
      "Requirement already satisfied: six in c:\\users\\d\\appdata\\local\\programs\\python\\python39\\lib\\site-packages (from roboflow) (1.17.0)\n",
      "Requirement already satisfied: cycler in c:\\users\\d\\appdata\\local\\programs\\python\\python39\\lib\\site-packages (from roboflow) (0.12.1)\n",
      "Requirement already satisfied: matplotlib in c:\\users\\d\\appdata\\local\\programs\\python\\python39\\lib\\site-packages (from roboflow) (3.9.4)\n",
      "Requirement already satisfied: numpy>=1.18.5 in c:\\users\\d\\appdata\\local\\programs\\python\\python39\\lib\\site-packages (from roboflow) (2.0.2)\n",
      "Requirement already satisfied: filetype in c:\\users\\d\\appdata\\local\\programs\\python\\python39\\lib\\site-packages (from roboflow) (1.2.0)\n",
      "Requirement already satisfied: PyYAML>=5.3.1 in c:\\users\\d\\appdata\\local\\programs\\python\\python39\\lib\\site-packages (from roboflow) (6.0.2)\n",
      "Requirement already satisfied: Pillow>=7.1.2 in c:\\users\\d\\appdata\\local\\programs\\python\\python39\\lib\\site-packages (from roboflow) (11.3.0)\n",
      "Requirement already satisfied: requests in c:\\users\\d\\appdata\\local\\programs\\python\\python39\\lib\\site-packages (from roboflow) (2.32.5)\n",
      "Requirement already satisfied: certifi in c:\\users\\d\\appdata\\local\\programs\\python\\python39\\lib\\site-packages (from roboflow) (2025.8.3)\n",
      "Requirement already satisfied: opencv-python-headless==4.10.0.84 in c:\\users\\d\\appdata\\local\\programs\\python\\python39\\lib\\site-packages (from roboflow) (4.10.0.84)\n",
      "Requirement already satisfied: python-dotenv in c:\\users\\d\\appdata\\local\\programs\\python\\python39\\lib\\site-packages (from roboflow) (1.1.1)\n",
      "Requirement already satisfied: pillow-avif-plugin<2 in c:\\users\\d\\appdata\\local\\programs\\python\\python39\\lib\\site-packages (from roboflow) (1.5.2)\n",
      "Requirement already satisfied: requests-toolbelt in c:\\users\\d\\appdata\\local\\programs\\python\\python39\\lib\\site-packages (from roboflow) (1.0.0)\n",
      "Requirement already satisfied: colorama in c:\\users\\d\\appdata\\local\\programs\\python\\python39\\lib\\site-packages (from tqdm>=4.41.0->roboflow) (0.4.6)\n",
      "Requirement already satisfied: packaging>=20.0 in c:\\users\\d\\appdata\\local\\programs\\python\\python39\\lib\\site-packages (from matplotlib->roboflow) (25.0)\n",
      "Requirement already satisfied: fonttools>=4.22.0 in c:\\users\\d\\appdata\\local\\programs\\python\\python39\\lib\\site-packages (from matplotlib->roboflow) (4.59.2)\n",
      "Requirement already satisfied: importlib-resources>=3.2.0 in c:\\users\\d\\appdata\\local\\programs\\python\\python39\\lib\\site-packages (from matplotlib->roboflow) (6.5.2)\n",
      "Requirement already satisfied: pyparsing>=2.3.1 in c:\\users\\d\\appdata\\local\\programs\\python\\python39\\lib\\site-packages (from matplotlib->roboflow) (3.2.3)\n",
      "Requirement already satisfied: contourpy>=1.0.1 in c:\\users\\d\\appdata\\local\\programs\\python\\python39\\lib\\site-packages (from matplotlib->roboflow) (1.3.0)\n",
      "Requirement already satisfied: charset_normalizer<4,>=2 in c:\\users\\d\\appdata\\local\\programs\\python\\python39\\lib\\site-packages (from requests->roboflow) (3.4.3)\n",
      "Requirement already satisfied: zipp>=3.1.0 in c:\\users\\d\\appdata\\local\\programs\\python\\python39\\lib\\site-packages (from importlib-resources>=3.2.0->matplotlib->roboflow) (3.23.0)\n",
      "loading Roboflow workspace...\n",
      "loading Roboflow project...\n"
     ]
    },
    {
     "name": "stderr",
     "output_type": "stream",
     "text": [
      "Downloading Dataset Version Zip in tennis-ball-detection-6 to yolov5pytorch:: 100%|██████████| 52040/52040 [00:19<00:00, 2641.31it/s]"
     ]
    },
    {
     "name": "stdout",
     "output_type": "stream",
     "text": [
      "\n"
     ]
    },
    {
     "name": "stderr",
     "output_type": "stream",
     "text": [
      "\n",
      "Extracting Dataset Version Zip to tennis-ball-detection-6 in yolov5pytorch:: 100%|██████████| 1168/1168 [00:00<00:00, 1681.69it/s]\n"
     ]
    }
   ],
   "execution_count": 2,
   "source": [
    "!pip install roboflow\n",
    "\n",
    "from roboflow import Roboflow\n",
    "rf = Roboflow(api_key=\"Hm8mdFJnlkZnoorR3Uy8\")\n",
    "project = rf.workspace(\"viren-dhanwani\").project(\"tennis-ball-detection\")\n",
    "version = project.version(6)\n",
    "dataset = version.download(\"yolov5\")\n"
   ],
   "id": "e1fba095e07f1e34"
  },
  {
   "metadata": {},
   "cell_type": "code",
   "outputs": [],
   "execution_count": null,
   "source": [
    "import shutil\n",
    "\n",
    "shutil.move(\"tennis-ball-detection-6/train\",\n",
    "\"tennis-ball-detection-6/tennis-ball-detection-6/train\",\n",
    ")\n",
    "shutil.move(\"tennis-ball-detection-6/test\",\n",
    "\"tennis-ball-detection-6/tennis-ball-detection-6/test\",\n",
    ")\n",
    "shutil.move(\"tennis-ball-detection-6/valid\",\n",
    "\"tennis-ball-detection-6/tennis-ball-detection-6/valid\",\n",
    ")"
   ],
   "id": "cd301a98e1715ee2"
  },
  {
   "metadata": {},
   "cell_type": "code",
   "outputs": [],
   "execution_count": null,
   "source": "!yolo task=detect mode=train model=yolov5l6u.pt data={dataset.location}/data.yaml epochs=100 imgsz=640\n",
   "id": "6baddf5541469f36"
  }
 ],
 "metadata": {
  "kernelspec": {
   "display_name": "Python 3",
   "language": "python",
   "name": "python3"
  },
  "language_info": {
   "codemirror_mode": {
    "name": "ipython",
    "version": 2
   },
   "file_extension": ".py",
   "mimetype": "text/x-python",
   "name": "python",
   "nbconvert_exporter": "python",
   "pygments_lexer": "ipython2",
   "version": "2.7.6"
  }
 },
 "nbformat": 4,
 "nbformat_minor": 5
}

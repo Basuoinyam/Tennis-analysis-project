{
 "cells": [
  {
   "cell_type": "code",
   "id": "initial_id",
   "metadata": {
    "collapsed": true,
    "ExecuteTime": {
     "end_time": "2025-09-20T14:25:18.148019Z",
     "start_time": "2025-09-20T14:25:18.132328Z"
    }
   },
   "source": [
    "import pandas as pd\n",
    "import pickle\n",
    "import matplotlib.pyplot as plt"
   ],
   "outputs": [],
   "execution_count": 17
  },
  {
   "metadata": {
    "ExecuteTime": {
     "end_time": "2025-09-20T14:25:18.190980Z",
     "start_time": "2025-09-20T14:25:18.175166Z"
    }
   },
   "cell_type": "code",
   "source": [
    "with open(\"../tracker_stubs/ball_detections.pkl\", \"rb\") as f:\n",
    "    ball_positions = pickle.load(f)\n",
    "print(ball_positions[:10])"
   ],
   "id": "b8491b71cea6a3a4",
   "outputs": [
    {
     "name": "stdout",
     "output_type": "stream",
     "text": [
      "[{}, {1: [893.1366577148438, 617.3442993164062, 911.4036254882812, 636.9761352539062]}, {}, {}, {}, {}, {1: [821.3460083007812, 687.9659423828125, 838.1300048828125, 705.9591674804688]}, {1: [812.8591918945312, 695.1517333984375, 830.8386840820312, 715.78515625]}, {1: [797.1233520507812, 718.9011840820312, 814.0260009765625, 738.8193969726562]}, {1: [777.1159057617188, 741.0853271484375, 800.5676879882812, 766.9713134765625]}]\n"
     ]
    }
   ],
   "execution_count": 18
  },
  {
   "metadata": {
    "ExecuteTime": {
     "end_time": "2025-09-20T14:25:18.256835Z",
     "start_time": "2025-09-20T14:25:18.245415Z"
    }
   },
   "cell_type": "code",
   "source": [
    "ball_positions=[x.get(1,[]) for x in ball_positions]\n",
    "ball_positions_df=pd.DataFrame(ball_positions,columns=[\"x1\",\"y1\",\"x2\",\"y2\"])\n",
    "ball_positions_df=ball_positions_df.interpolate()\n",
    "ball_positions_df=ball_positions_df.bfill()"
   ],
   "id": "b3d7e9b01bb0284e",
   "outputs": [],
   "execution_count": 19
  },
  {
   "metadata": {
    "ExecuteTime": {
     "end_time": "2025-09-20T14:25:18.312636Z",
     "start_time": "2025-09-20T14:25:18.298815Z"
    }
   },
   "cell_type": "code",
   "source": "ball_positions_df.head()",
   "id": "1f86a4376d1ed9a8",
   "outputs": [
    {
     "data": {
      "text/plain": [
       "           x1          y1          x2          y2\n",
       "0  893.136658  617.344299  911.403625  636.976135\n",
       "1  893.136658  617.344299  911.403625  636.976135\n",
       "2  878.778528  631.468628  896.748901  650.772742\n",
       "3  864.420398  645.592957  882.094177  664.569348\n",
       "4  850.062268  659.717285  867.439453  678.365955"
      ],
      "text/html": [
       "<div>\n",
       "<style scoped>\n",
       "    .dataframe tbody tr th:only-of-type {\n",
       "        vertical-align: middle;\n",
       "    }\n",
       "\n",
       "    .dataframe tbody tr th {\n",
       "        vertical-align: top;\n",
       "    }\n",
       "\n",
       "    .dataframe thead th {\n",
       "        text-align: right;\n",
       "    }\n",
       "</style>\n",
       "<table border=\"1\" class=\"dataframe\">\n",
       "  <thead>\n",
       "    <tr style=\"text-align: right;\">\n",
       "      <th></th>\n",
       "      <th>x1</th>\n",
       "      <th>y1</th>\n",
       "      <th>x2</th>\n",
       "      <th>y2</th>\n",
       "    </tr>\n",
       "  </thead>\n",
       "  <tbody>\n",
       "    <tr>\n",
       "      <th>0</th>\n",
       "      <td>893.136658</td>\n",
       "      <td>617.344299</td>\n",
       "      <td>911.403625</td>\n",
       "      <td>636.976135</td>\n",
       "    </tr>\n",
       "    <tr>\n",
       "      <th>1</th>\n",
       "      <td>893.136658</td>\n",
       "      <td>617.344299</td>\n",
       "      <td>911.403625</td>\n",
       "      <td>636.976135</td>\n",
       "    </tr>\n",
       "    <tr>\n",
       "      <th>2</th>\n",
       "      <td>878.778528</td>\n",
       "      <td>631.468628</td>\n",
       "      <td>896.748901</td>\n",
       "      <td>650.772742</td>\n",
       "    </tr>\n",
       "    <tr>\n",
       "      <th>3</th>\n",
       "      <td>864.420398</td>\n",
       "      <td>645.592957</td>\n",
       "      <td>882.094177</td>\n",
       "      <td>664.569348</td>\n",
       "    </tr>\n",
       "    <tr>\n",
       "      <th>4</th>\n",
       "      <td>850.062268</td>\n",
       "      <td>659.717285</td>\n",
       "      <td>867.439453</td>\n",
       "      <td>678.365955</td>\n",
       "    </tr>\n",
       "  </tbody>\n",
       "</table>\n",
       "</div>"
      ]
     },
     "execution_count": 20,
     "metadata": {},
     "output_type": "execute_result"
    }
   ],
   "execution_count": 20
  },
  {
   "metadata": {
    "ExecuteTime": {
     "end_time": "2025-09-20T14:25:18.437398Z",
     "start_time": "2025-09-20T14:25:18.405679Z"
    }
   },
   "cell_type": "code",
   "source": [
    "ball_positions_df[\"mid_y\"]=(ball_positions_df[\"y1\"]+ball_positions_df[\"y2\"])/2\n",
    "ball_positions_df.head()"
   ],
   "id": "6d73f6091ea81bdf",
   "outputs": [
    {
     "data": {
      "text/plain": [
       "           x1          y1          x2          y2       mid_y\n",
       "0  893.136658  617.344299  911.403625  636.976135  627.160217\n",
       "1  893.136658  617.344299  911.403625  636.976135  627.160217\n",
       "2  878.778528  631.468628  896.748901  650.772742  641.120685\n",
       "3  864.420398  645.592957  882.094177  664.569348  655.081152\n",
       "4  850.062268  659.717285  867.439453  678.365955  669.041620"
      ],
      "text/html": [
       "<div>\n",
       "<style scoped>\n",
       "    .dataframe tbody tr th:only-of-type {\n",
       "        vertical-align: middle;\n",
       "    }\n",
       "\n",
       "    .dataframe tbody tr th {\n",
       "        vertical-align: top;\n",
       "    }\n",
       "\n",
       "    .dataframe thead th {\n",
       "        text-align: right;\n",
       "    }\n",
       "</style>\n",
       "<table border=\"1\" class=\"dataframe\">\n",
       "  <thead>\n",
       "    <tr style=\"text-align: right;\">\n",
       "      <th></th>\n",
       "      <th>x1</th>\n",
       "      <th>y1</th>\n",
       "      <th>x2</th>\n",
       "      <th>y2</th>\n",
       "      <th>mid_y</th>\n",
       "    </tr>\n",
       "  </thead>\n",
       "  <tbody>\n",
       "    <tr>\n",
       "      <th>0</th>\n",
       "      <td>893.136658</td>\n",
       "      <td>617.344299</td>\n",
       "      <td>911.403625</td>\n",
       "      <td>636.976135</td>\n",
       "      <td>627.160217</td>\n",
       "    </tr>\n",
       "    <tr>\n",
       "      <th>1</th>\n",
       "      <td>893.136658</td>\n",
       "      <td>617.344299</td>\n",
       "      <td>911.403625</td>\n",
       "      <td>636.976135</td>\n",
       "      <td>627.160217</td>\n",
       "    </tr>\n",
       "    <tr>\n",
       "      <th>2</th>\n",
       "      <td>878.778528</td>\n",
       "      <td>631.468628</td>\n",
       "      <td>896.748901</td>\n",
       "      <td>650.772742</td>\n",
       "      <td>641.120685</td>\n",
       "    </tr>\n",
       "    <tr>\n",
       "      <th>3</th>\n",
       "      <td>864.420398</td>\n",
       "      <td>645.592957</td>\n",
       "      <td>882.094177</td>\n",
       "      <td>664.569348</td>\n",
       "      <td>655.081152</td>\n",
       "    </tr>\n",
       "    <tr>\n",
       "      <th>4</th>\n",
       "      <td>850.062268</td>\n",
       "      <td>659.717285</td>\n",
       "      <td>867.439453</td>\n",
       "      <td>678.365955</td>\n",
       "      <td>669.041620</td>\n",
       "    </tr>\n",
       "  </tbody>\n",
       "</table>\n",
       "</div>"
      ]
     },
     "execution_count": 21,
     "metadata": {},
     "output_type": "execute_result"
    }
   ],
   "execution_count": 21
  },
  {
   "metadata": {
    "ExecuteTime": {
     "end_time": "2025-09-20T14:25:18.756324Z",
     "start_time": "2025-09-20T14:25:18.606452Z"
    }
   },
   "cell_type": "code",
   "source": [
    "plt.figure(figsize=(10,5))\n",
    "ball_positions_df[\"mid_y\"].plot()\n",
    "plt.show()"
   ],
   "id": "e7d2e180b7308cbf",
   "outputs": [
    {
     "data": {
      "text/plain": [
       "<Figure size 1000x500 with 1 Axes>"
      ],
      "image/png": "[encoded data removed]"
     },
     "metadata": {},
     "output_type": "display_data"
    }
   ],
   "execution_count": 22
  },
  {
   "metadata": {
    "ExecuteTime": {
     "end_time": "2025-09-20T14:25:18.968790Z",
     "start_time": "2025-09-20T14:25:18.844408Z"
    }
   },
   "cell_type": "code",
   "source": [
    "ball_positions_df[\"mid_y_rolling\"]=ball_positions_df[\"mid_y\"].rolling(window=5,min_periods=1,center=False).mean()\n",
    "ball_positions_df[\"mid_y_rolling\"].plot()\n",
    "plt.show()"
   ],
   "id": "83e568ebbca37bd5",
   "outputs": [
    {
     "data": {
      "text/plain": [
       "<Figure size 640x480 with 1 Axes>"
      ],
      "image/png": "[encoded data removed]"
     },
     "metadata": {},
     "output_type": "display_data"
    }
   ],
   "execution_count": 23
  },
  {
   "metadata": {
    "ExecuteTime": {
     "end_time": "2025-09-20T14:25:19.116025Z",
     "start_time": "2025-09-20T14:25:19.004743Z"
    }
   },
   "cell_type": "code",
   "source": [
    "ball_positions_df[\"delta_y\"]=ball_positions_df[\"mid_y_rolling\"].diff()\n",
    "ball_positions_df[\"delta_y\"].plot()\n",
    "plt.show()"
   ],
   "id": "3aa4deebd0b3c5b8",
   "outputs": [
    {
     "data": {
      "text/plain": [
       "<Figure size 640x480 with 1 Axes>"
      ],
      "image/png": "[encoded data removed]"
     },
     "metadata": {},
     "output_type": "display_data"
    }
   ],
   "execution_count": 24
  },
  {
   "metadata": {
    "ExecuteTime": {
     "end_time": "2025-09-20T14:25:19.179710Z",
     "start_time": "2025-09-20T14:25:19.154962Z"
    }
   },
   "cell_type": "code",
   "source": [
    "c\n",
    "ball_positions_df.head()"
   ],
   "id": "8538231f0366a5df",
   "outputs": [
    {
     "data": {
      "text/plain": [
       "           x1          y1          x2          y2       mid_y  mid_y_rolling  \\\n",
       "0  893.136658  617.344299  911.403625  636.976135  627.160217     627.160217   \n",
       "1  893.136658  617.344299  911.403625  636.976135  627.160217     627.160217   \n",
       "2  878.778528  631.468628  896.748901  650.772742  641.120685     631.813706   \n",
       "3  864.420398  645.592957  882.094177  664.569348  655.081152     637.630568   \n",
       "4  850.062268  659.717285  867.439453  678.365955  669.041620     643.912778   \n",
       "\n",
       "    delta_y  ball_hit  \n",
       "0       NaN         0  \n",
       "1  0.000000         0  \n",
       "2  4.653489         0  \n",
       "3  5.816861         0  \n",
       "4  6.282210         0  "
      ],
      "text/html": [
       "<div>\n",
       "<style scoped>\n",
       "    .dataframe tbody tr th:only-of-type {\n",
       "        vertical-align: middle;\n",
       "    }\n",
       "\n",
       "    .dataframe tbody tr th {\n",
       "        vertical-align: top;\n",
       "    }\n",
       "\n",
       "    .dataframe thead th {\n",
       "        text-align: right;\n",
       "    }\n",
       "</style>\n",
       "<table border=\"1\" class=\"dataframe\">\n",
       "  <thead>\n",
       "    <tr style=\"text-align: right;\">\n",
       "      <th></th>\n",
       "      <th>x1</th>\n",
       "      <th>y1</th>\n",
       "      <th>x2</th>\n",
       "      <th>y2</th>\n",
       "      <th>mid_y</th>\n",
       "      <th>mid_y_rolling</th>\n",
       "      <th>delta_y</th>\n",
       "      <th>ball_hit</th>\n",
       "    </tr>\n",
       "  </thead>\n",
       "  <tbody>\n",
       "    <tr>\n",
       "      <th>0</th>\n",
       "      <td>893.136658</td>\n",
       "      <td>617.344299</td>\n",
       "      <td>911.403625</td>\n",
       "      <td>636.976135</td>\n",
       "      <td>627.160217</td>\n",
       "      <td>627.160217</td>\n",
       "      <td>NaN</td>\n",
       "      <td>0</td>\n",
       "    </tr>\n",
       "    <tr>\n",
       "      <th>1</th>\n",
       "      <td>893.136658</td>\n",
       "      <td>617.344299</td>\n",
       "      <td>911.403625</td>\n",
       "      <td>636.976135</td>\n",
       "      <td>627.160217</td>\n",
       "      <td>627.160217</td>\n",
       "      <td>0.000000</td>\n",
       "      <td>0</td>\n",
       "    </tr>\n",
       "    <tr>\n",
       "      <th>2</th>\n",
       "      <td>878.778528</td>\n",
       "      <td>631.468628</td>\n",
       "      <td>896.748901</td>\n",
       "      <td>650.772742</td>\n",
       "      <td>641.120685</td>\n",
       "      <td>631.813706</td>\n",
       "      <td>4.653489</td>\n",
       "      <td>0</td>\n",
       "    </tr>\n",
       "    <tr>\n",
       "      <th>3</th>\n",
       "      <td>864.420398</td>\n",
       "      <td>645.592957</td>\n",
       "      <td>882.094177</td>\n",
       "      <td>664.569348</td>\n",
       "      <td>655.081152</td>\n",
       "      <td>637.630568</td>\n",
       "      <td>5.816861</td>\n",
       "      <td>0</td>\n",
       "    </tr>\n",
       "    <tr>\n",
       "      <th>4</th>\n",
       "      <td>850.062268</td>\n",
       "      <td>659.717285</td>\n",
       "      <td>867.439453</td>\n",
       "      <td>678.365955</td>\n",
       "      <td>669.041620</td>\n",
       "      <td>643.912778</td>\n",
       "      <td>6.282210</td>\n",
       "      <td>0</td>\n",
       "    </tr>\n",
       "  </tbody>\n",
       "</table>\n",
       "</div>"
      ]
     },
     "execution_count": 25,
     "metadata": {},
     "output_type": "execute_result"
    }
   ],
   "execution_count": 25
  },
  {
   "metadata": {
    "ExecuteTime": {
     "end_time": "2025-09-20T14:25:19.285558Z",
     "start_time": "2025-09-20T14:25:19.263655Z"
    }
   },
   "cell_type": "code",
   "source": [
    "ball_positions_df[\"delta_y\"].iloc[11]\n",
    "ball_positions_df[\"delta_y\"].iloc[12]"
   ],
   "id": "be4af84a7f1f21b8",
   "outputs": [
    {
     "data": {
      "text/plain": [
       "np.float64(-2.6139434814452898)"
      ]
     },
     "execution_count": 26,
     "metadata": {},
     "output_type": "execute_result"
    }
   ],
   "execution_count": 26
  },
  {
   "metadata": {
    "ExecuteTime": {
     "end_time": "2025-09-20T14:25:19.406011Z",
     "start_time": "2025-09-20T14:25:19.374559Z"
    }
   },
   "cell_type": "code",
   "source": [
    "minimum_frame=25\n",
    "for i in range(1,len(ball_positions_df)-int(minimum_frame*1.2)):\n",
    "    negative_position_change=ball_positions_df[\"delta_y\"].iloc[i]>0 and ball_positions_df[\"delta_y\"].iloc[i+1]<0\n",
    "    positive_position_change=ball_positions_df[\"delta_y\"].iloc[i]<0 and ball_positions_df[\"delta_y\"].iloc[i+1]>0\n",
    "    if negative_position_change or positive_position_change:\n",
    "        count=0\n",
    "        for change_frame in range(i+1,int(i+minimum_frame*1.2) +1):\n",
    "\n",
    "            negative_position_change_following_frame=ball_positions_df[\"delta_y\"].iloc[i]>0and ball_positions_df[\"delta_y\"].iloc[change_frame]<0\n",
    "            positive_position_change_following_frame=ball_positions_df[\"delta_y\"].iloc[i]<0and ball_positions_df[\"delta_y\"].iloc[change_frame]>0\n",
    "            if negative_position_change_following_frame and negative_position_change:\n",
    "                count+=1\n",
    "            elif positive_position_change_following_frame and positive_position_change:\n",
    "                count+=1\n",
    "        if count>minimum_frame-1:\n",
    "            ball_positions_df[\"ball_hit\"].iloc[i]=1\n",
    "\n",
    "\n",
    "\n",
    "\n"
   ],
   "id": "9b8d5c7a80af20a4",
   "outputs": [
    {
     "name": "stderr",
     "output_type": "stream",
     "text": [
      "C:\\Users\\d\\AppData\\Local\\Temp\\ipykernel_14928\\4285399856.py:16: FutureWarning: ChainedAssignmentError: behaviour will change in pandas 3.0!\n",
      "You are setting values through chained assignment. Currently this works in certain cases, but when using Copy-on-Write (which will become the default behaviour in pandas 3.0) this will never work to update the original DataFrame or Series, because the intermediate object on which we are setting values will behave as a copy.\n",
      "A typical example is when you are setting values in a column of a DataFrame, like:\n",
      "\n",
      "df[\"col\"][row_indexer] = value\n",
      "\n",
      "Use `df.loc[row_indexer, \"col\"] = values` instead, to perform the assignment in a single step and ensure this keeps updating the original `df`.\n",
      "\n",
      "See the caveats in the documentation: https://pandas.pydata.org/pandas-docs/stable/user_guide/indexing.html#returning-a-view-versus-a-copy\n",
      "\n",
      "  ball_positions_df[\"ball_hit\"].iloc[i]=1\n",
      "C:\\Users\\d\\AppData\\Local\\Temp\\ipykernel_14928\\4285399856.py:16: SettingWithCopyWarning: \n",
      "A value is trying to be set on a copy of a slice from a DataFrame\n",
      "\n",
      "See the caveats in the documentation: https://pandas.pydata.org/pandas-docs/stable/user_guide/indexing.html#returning-a-view-versus-a-copy\n",
      "  ball_positions_df[\"ball_hit\"].iloc[i]=1\n",
      "C:\\Users\\d\\AppData\\Local\\Temp\\ipykernel_14928\\4285399856.py:16: FutureWarning: ChainedAssignmentError: behaviour will change in pandas 3.0!\n",
      "You are setting values through chained assignment. Currently this works in certain cases, but when using Copy-on-Write (which will become the default behaviour in pandas 3.0) this will never work to update the original DataFrame or Series, because the intermediate object on which we are setting values will behave as a copy.\n",
      "A typical example is when you are setting values in a column of a DataFrame, like:\n",
      "\n",
      "df[\"col\"][row_indexer] = value\n",
      "\n",
      "Use `df.loc[row_indexer, \"col\"] = values` instead, to perform the assignment in a single step and ensure this keeps updating the original `df`.\n",
      "\n",
      "See the caveats in the documentation: https://pandas.pydata.org/pandas-docs/stable/user_guide/indexing.html#returning-a-view-versus-a-copy\n",
      "\n",
      "  ball_positions_df[\"ball_hit\"].iloc[i]=1\n",
      "C:\\Users\\d\\AppData\\Local\\Temp\\ipykernel_14928\\4285399856.py:16: SettingWithCopyWarning: \n",
      "A value is trying to be set on a copy of a slice from a DataFrame\n",
      "\n",
      "See the caveats in the documentation: https://pandas.pydata.org/pandas-docs/stable/user_guide/indexing.html#returning-a-view-versus-a-copy\n",
      "  ball_positions_df[\"ball_hit\"].iloc[i]=1\n",
      "C:\\Users\\d\\AppData\\Local\\Temp\\ipykernel_14928\\4285399856.py:16: FutureWarning: ChainedAssignmentError: behaviour will change in pandas 3.0!\n",
      "You are setting values through chained assignment. Currently this works in certain cases, but when using Copy-on-Write (which will become the default behaviour in pandas 3.0) this will never work to update the original DataFrame or Series, because the intermediate object on which we are setting values will behave as a copy.\n",
      "A typical example is when you are setting values in a column of a DataFrame, like:\n",
      "\n",
      "df[\"col\"][row_indexer] = value\n",
      "\n",
      "Use `df.loc[row_indexer, \"col\"] = values` instead, to perform the assignment in a single step and ensure this keeps updating the original `df`.\n",
      "\n",
      "See the caveats in the documentation: https://pandas.pydata.org/pandas-docs/stable/user_guide/indexing.html#returning-a-view-versus-a-copy\n",
      "\n",
      "  ball_positions_df[\"ball_hit\"].iloc[i]=1\n",
      "C:\\Users\\d\\AppData\\Local\\Temp\\ipykernel_14928\\4285399856.py:16: SettingWithCopyWarning: \n",
      "A value is trying to be set on a copy of a slice from a DataFrame\n",
      "\n",
      "See the caveats in the documentation: https://pandas.pydata.org/pandas-docs/stable/user_guide/indexing.html#returning-a-view-versus-a-copy\n",
      "  ball_positions_df[\"ball_hit\"].iloc[i]=1\n",
      "C:\\Users\\d\\AppData\\Local\\Temp\\ipykernel_14928\\4285399856.py:16: FutureWarning: ChainedAssignmentError: behaviour will change in pandas 3.0!\n",
      "You are setting values through chained assignment. Currently this works in certain cases, but when using Copy-on-Write (which will become the default behaviour in pandas 3.0) this will never work to update the original DataFrame or Series, because the intermediate object on which we are setting values will behave as a copy.\n",
      "A typical example is when you are setting values in a column of a DataFrame, like:\n",
      "\n",
      "df[\"col\"][row_indexer] = value\n",
      "\n",
      "Use `df.loc[row_indexer, \"col\"] = values` instead, to perform the assignment in a single step and ensure this keeps updating the original `df`.\n",
      "\n",
      "See the caveats in the documentation: https://pandas.pydata.org/pandas-docs/stable/user_guide/indexing.html#returning-a-view-versus-a-copy\n",
      "\n",
      "  ball_positions_df[\"ball_hit\"].iloc[i]=1\n",
      "C:\\Users\\d\\AppData\\Local\\Temp\\ipykernel_14928\\4285399856.py:16: SettingWithCopyWarning: \n",
      "A value is trying to be set on a copy of a slice from a DataFrame\n",
      "\n",
      "See the caveats in the documentation: https://pandas.pydata.org/pandas-docs/stable/user_guide/indexing.html#returning-a-view-versus-a-copy\n",
      "  ball_positions_df[\"ball_hit\"].iloc[i]=1\n",
      "C:\\Users\\d\\AppData\\Local\\Temp\\ipykernel_14928\\4285399856.py:16: FutureWarning: ChainedAssignmentError: behaviour will change in pandas 3.0!\n",
      "You are setting values through chained assignment. Currently this works in certain cases, but when using Copy-on-Write (which will become the default behaviour in pandas 3.0) this will never work to update the original DataFrame or Series, because the intermediate object on which we are setting values will behave as a copy.\n",
      "A typical example is when you are setting values in a column of a DataFrame, like:\n",
      "\n",
      "df[\"col\"][row_indexer] = value\n",
      "\n",
      "Use `df.loc[row_indexer, \"col\"] = values` instead, to perform the assignment in a single step and ensure this keeps updating the original `df`.\n",
      "\n",
      "See the caveats in the documentation: https://pandas.pydata.org/pandas-docs/stable/user_guide/indexing.html#returning-a-view-versus-a-copy\n",
      "\n",
      "  ball_positions_df[\"ball_hit\"].iloc[i]=1\n",
      "C:\\Users\\d\\AppData\\Local\\Temp\\ipykernel_14928\\4285399856.py:16: SettingWithCopyWarning: \n",
      "A value is trying to be set on a copy of a slice from a DataFrame\n",
      "\n",
      "See the caveats in the documentation: https://pandas.pydata.org/pandas-docs/stable/user_guide/indexing.html#returning-a-view-versus-a-copy\n",
      "  ball_positions_df[\"ball_hit\"].iloc[i]=1\n"
     ]
    }
   ],
   "execution_count": 27
  },
  {
   "metadata": {
    "ExecuteTime": {
     "end_time": "2025-09-20T14:26:33.955826Z",
     "start_time": "2025-09-20T14:26:33.932604Z"
    }
   },
   "cell_type": "code",
   "source": [
    "ball_hit_frame=ball_positions_df[ball_positions_df[\"ball_hit\"]==1]\n",
    "ball_hit_frame"
   ],
   "id": "10cb0a8ffd1c5a1a",
   "outputs": [
    {
     "data": {
      "text/plain": [
       "              x1          y1           x2          y2       mid_y  \\\n",
       "11    777.939331  717.951843   796.907227  738.314270  728.133057   \n",
       "58    926.175256  241.236475   938.221765  253.595041  247.415758   \n",
       "95    623.688629  749.008301   641.831573  767.926331  758.467316   \n",
       "131   717.677948  230.119804   729.704773  242.572395  236.346100   \n",
       "182  1295.454468  740.952942  1312.696411  758.875305  749.914124   \n",
       "\n",
       "     mid_y_rolling   delta_y  ball_hit  \n",
       "11      737.126501  6.234100         1  \n",
       "58      242.638125 -1.599107         1  \n",
       "95      775.462299  0.867975         1  \n",
       "131     235.697563 -0.589441         1  \n",
       "182     737.992087  5.389600         1  "
      ],
      "text/html": [
       "<div>\n",
       "<style scoped>\n",
       "    .dataframe tbody tr th:only-of-type {\n",
       "        vertical-align: middle;\n",
       "    }\n",
       "\n",
       "    .dataframe tbody tr th {\n",
       "        vertical-align: top;\n",
       "    }\n",
       "\n",
       "    .dataframe thead th {\n",
       "        text-align: right;\n",
       "    }\n",
       "</style>\n",
       "<table border=\"1\" class=\"dataframe\">\n",
       "  <thead>\n",
       "    <tr style=\"text-align: right;\">\n",
       "      <th></th>\n",
       "      <th>x1</th>\n",
       "      <th>y1</th>\n",
       "      <th>x2</th>\n",
       "      <th>y2</th>\n",
       "      <th>mid_y</th>\n",
       "      <th>mid_y_rolling</th>\n",
       "      <th>delta_y</th>\n",
       "      <th>ball_hit</th>\n",
       "    </tr>\n",
       "  </thead>\n",
       "  <tbody>\n",
       "    <tr>\n",
       "      <th>11</th>\n",
       "      <td>777.939331</td>\n",
       "      <td>717.951843</td>\n",
       "      <td>796.907227</td>\n",
       "      <td>738.314270</td>\n",
       "      <td>728.133057</td>\n",
       "      <td>737.126501</td>\n",
       "      <td>6.234100</td>\n",
       "      <td>1</td>\n",
       "    </tr>\n",
       "    <tr>\n",
       "      <th>58</th>\n",
       "      <td>926.175256</td>\n",
       "      <td>241.236475</td>\n",
       "      <td>938.221765</td>\n",
       "      <td>253.595041</td>\n",
       "      <td>247.415758</td>\n",
       "      <td>242.638125</td>\n",
       "      <td>-1.599107</td>\n",
       "      <td>1</td>\n",
       "    </tr>\n",
       "    <tr>\n",
       "      <th>95</th>\n",
       "      <td>623.688629</td>\n",
       "      <td>749.008301</td>\n",
       "      <td>641.831573</td>\n",
       "      <td>767.926331</td>\n",
       "      <td>758.467316</td>\n",
       "      <td>775.462299</td>\n",
       "      <td>0.867975</td>\n",
       "      <td>1</td>\n",
       "    </tr>\n",
       "    <tr>\n",
       "      <th>131</th>\n",
       "      <td>717.677948</td>\n",
       "      <td>230.119804</td>\n",
       "      <td>729.704773</td>\n",
       "      <td>242.572395</td>\n",
       "      <td>236.346100</td>\n",
       "      <td>235.697563</td>\n",
       "      <td>-0.589441</td>\n",
       "      <td>1</td>\n",
       "    </tr>\n",
       "    <tr>\n",
       "      <th>182</th>\n",
       "      <td>1295.454468</td>\n",
       "      <td>740.952942</td>\n",
       "      <td>1312.696411</td>\n",
       "      <td>758.875305</td>\n",
       "      <td>749.914124</td>\n",
       "      <td>737.992087</td>\n",
       "      <td>5.389600</td>\n",
       "      <td>1</td>\n",
       "    </tr>\n",
       "  </tbody>\n",
       "</table>\n",
       "</div>"
      ]
     },
     "execution_count": 30,
     "metadata": {},
     "output_type": "execute_result"
    }
   ],
   "execution_count": 30
  }
 ],
 "metadata": {
  "kernelspec": {
   "display_name": "Python 3",
   "language": "python",
   "name": "python3"
  },
  "language_info": {
   "codemirror_mode": {
    "name": "ipython",
    "version": 2
   },
   "file_extension": ".py",
   "mimetype": "text/x-python",
   "name": "python",
   "nbconvert_exporter": "python",
   "pygments_lexer": "ipython2",
   "version": "2.7.6"
  }
 },
 "nbformat": 4,
 "nbformat_minor": 5
}
